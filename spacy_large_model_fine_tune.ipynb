{
  "nbformat": 4,
  "nbformat_minor": 0,
  "metadata": {
    "colab": {
      "provenance": []
    },
    "kernelspec": {
      "name": "python3",
      "display_name": "Python 3"
    },
    "language_info": {
      "name": "python"
    }
  },
  "cells": [
    {
      "cell_type": "code",
      "execution_count": 1,
      "metadata": {
        "id": "MofYhHk4UY-L"
      },
      "outputs": [],
      "source": [
        "import spacy\n",
        "import pickle\n",
        "import random"
      ]
    },
    {
      "cell_type": "code",
      "source": [
        "!git clone https://github.com/laxmimerit/CV-Parsing-using-Spacy-3.git"
      ],
      "metadata": {
        "colab": {
          "base_uri": "https://localhost:8080/"
        },
        "id": "ogJrmyRPVVS3",
        "outputId": "6ab20b78-4dd7-4510-e0e4-dd7aef0aa0c3"
      },
      "execution_count": 2,
      "outputs": [
        {
          "output_type": "stream",
          "name": "stdout",
          "text": [
            "Cloning into 'CV-Parsing-using-Spacy-3'...\n",
            "remote: Enumerating objects: 82, done.\u001b[K\n",
            "remote: Counting objects: 100% (76/76), done.\u001b[K\n",
            "remote: Compressing objects: 100% (58/58), done.\u001b[K\n",
            "remote: Total 82 (delta 14), reused 74 (delta 14), pack-reused 6\u001b[K\n",
            "Receiving objects: 100% (82/82), 5.62 MiB | 6.53 MiB/s, done.\n",
            "Resolving deltas: 100% (14/14), done.\n"
          ]
        }
      ]
    },
    {
      "cell_type": "code",
      "source": [
        "train_data = pickle.load(open('/content/CV-Parsing-using-Spacy-3/data/training/train_data.pkl', 'rb'))"
      ],
      "metadata": {
        "id": "qJcjs4kBWZly"
      },
      "execution_count": 3,
      "outputs": []
    },
    {
      "cell_type": "code",
      "source": [
        "train_data[190]"
      ],
      "metadata": {
        "colab": {
          "base_uri": "https://localhost:8080/"
        },
        "id": "-hH9SQIbWZn-",
        "outputId": "c968d1b9-0702-441d-d3cd-3a47d3beb3cd"
      },
      "execution_count": 5,
      "outputs": [
        {
          "output_type": "execute_result",
          "data": {
            "text/plain": [
              "('Pawan Nag Microsoft Certified System Engineer  Delhi, Delhi - Email me on Indeed: indeed.com/r/Pawan-Nag/e14493f28cb72022  WORK EXPERIENCE  Microsoft Certified System Engineer  MCSA -  2000 to 2000  Corporate Trainings in India  EDUCATION  AMIE sec A  Training Program  2018  LINKS  https://mcp.microsoft.com/Anonymous//Transcript/Validate  ADDITIONAL INFORMATION  Skill Summary: Operating Systems: • Windows Server 2000, 2003, 2008, 2012, 2012R2. • Exchange 2003, 2007, 2010, 2013,  Date […] (Name) Pawan Nag  https://www.indeed.com/r/Pawan-Nag/e14493f28cb72022?isid=rex-download&ikw=download-top&co=IN https://mcp.microsoft.com/Anonymous//Transcript/Validate',\n",
              " {'entities': [(523, 562, 'Email Address'),\n",
              "   (500, 509, 'Name'),\n",
              "   (380, 398, 'Skills'),\n",
              "   (240, 250, 'Degree'),\n",
              "   (150, 175, 'Designation'),\n",
              "   (140, 149, 'Designation'),\n",
              "   (82, 121, 'Email Address'),\n",
              "   (54, 59, 'Location'),\n",
              "   (47, 52, 'Location'),\n",
              "   (20, 45, 'Designation'),\n",
              "   (10, 19, 'Designation'),\n",
              "   (0, 9, 'Name')]})"
            ]
          },
          "metadata": {},
          "execution_count": 5
        }
      ]
    },
    {
      "cell_type": "code",
      "source": [
        "nlp = spacy.blank('en')\n",
        "\n",
        "def train_model(train_data):\n",
        "    if 'ner' not in nlp.pipe_names:\n",
        "        ner = nlp.create_pipe('ner')\n",
        "        nlp.add_pipe('ner', last = True)\n",
        "\n",
        "    for _, annotation in train_data:\n",
        "        for ent in annotation['entities']:\n",
        "            ner.add_label(ent[2])\n",
        "\n",
        "\n",
        "    other_pipes = [pipe for pipe in nlp.pipe_names if pipe != 'ner']\n",
        "    with nlp.disable_pipes(*other_pipes):  # only train NER\n",
        "        optimizer = nlp.begin_training()\n",
        "        for itn in range(10):\n",
        "            print(\"Statring iteration \" + str(itn))\n",
        "            random.shuffle(train_data)\n",
        "            losses = {}\n",
        "            index = 0\n",
        "            for text, annotations in train_data:\n",
        "                try:\n",
        "                    nlp.update(\n",
        "                        [text],  # batch of texts\n",
        "                        [annotations],  # batch of annotations\n",
        "                        drop=0.2,  # dropout - make it harder to memorise data\n",
        "                        sgd=optimizer,  # callable to update weights\n",
        "                        losses=losses)\n",
        "                except Exception as e:\n",
        "                    pass\n",
        "\n",
        "            print(losses)\n",
        ""
      ],
      "metadata": {
        "id": "O8W22SwPWZql"
      },
      "execution_count": 8,
      "outputs": []
    },
    {
      "cell_type": "code",
      "source": [
        "train_model(train_data)"
      ],
      "metadata": {
        "colab": {
          "base_uri": "https://localhost:8080/"
        },
        "id": "LUBVUvPQWZsq",
        "outputId": "1bf2d3fc-c043-4c6a-a52f-6cf4d3d078ce"
      },
      "execution_count": 9,
      "outputs": [
        {
          "output_type": "stream",
          "name": "stdout",
          "text": [
            "Statring iteration 0\n",
            "{}\n",
            "Statring iteration 1\n",
            "{}\n",
            "Statring iteration 2\n",
            "{}\n",
            "Statring iteration 3\n",
            "{}\n",
            "Statring iteration 4\n",
            "{}\n",
            "Statring iteration 5\n",
            "{}\n",
            "Statring iteration 6\n",
            "{}\n",
            "Statring iteration 7\n",
            "{}\n",
            "Statring iteration 8\n",
            "{}\n",
            "Statring iteration 9\n",
            "{}\n"
          ]
        }
      ]
    },
    {
      "cell_type": "code",
      "source": [
        "nlp.to_disk('nlp_model')"
      ],
      "metadata": {
        "id": "auPSn3ouWZu4"
      },
      "execution_count": 10,
      "outputs": []
    },
    {
      "cell_type": "code",
      "source": [
        "nlp_model = spacy.load('nlp_model')\n"
      ],
      "metadata": {
        "id": "ALg87RXDWZxZ"
      },
      "execution_count": 11,
      "outputs": []
    },
    {
      "cell_type": "code",
      "source": [
        "train_data[0][0]"
      ],
      "metadata": {
        "colab": {
          "base_uri": "https://localhost:8080/",
          "height": 147
        },
        "id": "kUalVCRjWZzq",
        "outputId": "35953008-de60-48f7-9cbe-1353df14230c"
      },
      "execution_count": 12,
      "outputs": [
        {
          "output_type": "execute_result",
          "data": {
            "text/plain": [
              "'Soumya Balan IT SUPPORT  Sulthan Bathery, Kerala, Kerala - Email me on Indeed: indeed.com/r/Soumya- Balan/97ead9542c575355  ➢ To work in a progressive organization where I can enhance my skills and learning to contribute to the success of the organization.  WORK EXPERIENCE  Technical support engineer  Microsoft  Position: TECHNICAL SUPPORT ENGINEER  Company: Microsoft Corporation - Microsoft India Global Technical Support Center (Microsoft IGTSC), Bangalore  Years of Experience: 2 Years and 4 Months  Responsibilities  ➢ Represent Microsoft and communicate with corporate customers via telephone, written correspondence, or electronic service regarding technically complex escalated problems identified in Microsoft software products, and manage relationships with those customers.  ➢ Manage not only the technically complex problems, but also politically charged situations requiring the highest level of customer skill.  ➢ Receive technically complex, critical or politically hot customer issues, and maintain ownership of issue until resolved completely.  ➢ Solve highly complex problems, involving broad, in-depth product knowledge or in-depth product specialty.  ➢ Use trace analysis, and other sophisticated tools to analyze problems and develop solutions to meet customer needs.  ➢ Lead triage meetings to share knowledge with other engineers and develop customer solutions efficiently.  ➢ Act as technical lead, mentor, and model for a team of engineers; provide direction to others, review solutions and articles, mentoring existing &amp; aspiring Engineers.  ➢ Write technical articles for knowledge base.  ➢ Consult, collaborate and take escalations when necessary.  https://www.indeed.com/r/Soumya-Balan/97ead9542c575355?isid=rex-download&ikw=download-top&co=IN https://www.indeed.com/r/Soumya-Balan/97ead9542c575355?isid=rex-download&ikw=download-top&co=IN   ➢ Maintain working knowledge of pre-release products and take ownership for improvement in key technical areas.  ➢ Manage customer escalations and recognize when to solicit additional help. Participate in technical discussions and engage with product team if required to resolve issues and represent customer segments.  Exchange Server Knowledge  ➢ Exchange Server 2007 ➢ Exchange Server 2010 ➢ Exchange Server 2013 ➢ O365  UG PROJECT TITLE: Memory Bounded Anytime Heuristic Search A* Algorithm  ➢ This Project presents a heuristic-search algorithm called Memory-bounded Anytime Window A*(MAWA*), which is complete, anytime, and memory bounded. MAWA* uses the window- bounded anytime-search methodology of AWA* as the basic framework and combines it with the memory-bounded A* -like approach to handle restricted memory situations. Simple and efficient versions of MAWA* targeted for tree search have also been presented. Experimental results of the sliding-tile puzzle problem and the traveling-salesman problem show the significant advantages of the proposed algorithm over existing methods.  Technical and Co-Curricular activities  ➢ Star Performer in Microsoft IGTSC in 2014. ➢ Paper Presentations on Applications of Robotics in INOX 2K12. ➢ Attended a Three-Day workshop on C and C++ Programming and Aliasing. ➢ Attended a One-Day workshop on Java and Hardware Workshop at VECW ➢ Paper presentation 4G Technologies, Cloud Computing, Heuristic Algorithms and Applications, Open Source Software. ➢ Multimedia presentations on Artificial Intellegence, 6th Sense, and Robotics. ➢ Completed training of OCA (9i, 10g) from Oracle University. ➢ Attended SPARK training program in Infosys Mysore. ➢ Attended System Hardware Training program at HCL, Pondicherry.  EDUCATION  BE in Computer Science and Engineering  Vivekananda Engineering College for Women -  Chennai, Tamil Nadu  2013  BTEC HNC in Aviation in Hospitality and Travel Management  Frankfinn Institute of Airhostess Training -  Calicut, Kerala    2008  State Board  2007  SKILLS  Linux (Less than 1 year), Microsoft Office (Less than 1 year), MS OFFICE (Less than 1 year), problem solving (Less than 1 year)  ADDITIONAL INFORMATION  Skill Set ➢ Excellent communication and interpersonal skills. ➢ Proficient in Computer Applications -Microsoft Office Windows (Windows 2007, XP, 8, 8.1 and Windows 10), Linux, Fedora. ➢ Strong analytical and problem solving skills. ➢ Ability in managing a team of professionals and enjoy being in a team.'"
            ],
            "application/vnd.google.colaboratory.intrinsic+json": {
              "type": "string"
            }
          },
          "metadata": {},
          "execution_count": 12
        }
      ]
    },
    {
      "cell_type": "code",
      "source": [
        "doc = nlp_model(train_data[0][0])\n",
        "for ent in doc.ents:\n",
        "    print(f'{ent.label_.upper():{30}}- {ent.text}')"
      ],
      "metadata": {
        "id": "K6w33yd1WZ14"
      },
      "execution_count": 14,
      "outputs": []
    }
  ]
}