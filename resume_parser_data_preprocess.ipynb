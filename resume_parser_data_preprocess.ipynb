{
  "cells": [
    {
      "cell_type": "code",
      "execution_count": null,
      "metadata": {
        "id": "2BZQrdRa7-rD"
      },
      "outputs": [],
      "source": [
        "!pip install spacy_transformers\n",
        "# !pip install jedi fastapi kaleido python-multipart uvicorn\n",
        "# !pip install -U pip setuptools wheel\n",
        "!pip install spacy==3.6.0\n",
        "\n",
        "\n"
      ]
    },
    {
      "cell_type": "code",
      "execution_count": 2,
      "metadata": {
        "id": "8c47gv-xOGjf"
      },
      "outputs": [],
      "source": [
        "import spacy\n",
        "from spacy.tokens import DocBin\n",
        "from tqdm import tqdm\n",
        "import json\n"
      ]
    },
    {
      "cell_type": "code",
      "execution_count": 3,
      "metadata": {
        "colab": {
          "base_uri": "https://localhost:8080/",
          "height": 36
        },
        "id": "Bq2w1ei1MHaE",
        "outputId": "ca9f0dd0-a6ef-4e69-f719-96c5742e5faf"
      },
      "outputs": [
        {
          "data": {
            "application/vnd.google.colaboratory.intrinsic+json": {
              "type": "string"
            },
            "text/plain": [
              "'3.6.0'"
            ]
          },
          "execution_count": 3,
          "metadata": {},
          "output_type": "execute_result"
        }
      ],
      "source": [
        "spacy.__version__"
      ]
    },
    {
      "cell_type": "code",
      "execution_count": 4,
      "metadata": {
        "colab": {
          "base_uri": "https://localhost:8080/"
        },
        "id": "58EsoU0CO5LQ",
        "outputId": "98abf52a-1c11-4163-d4fc-42ede7e2930d"
      },
      "outputs": [
        {
          "name": "stdout",
          "output_type": "stream",
          "text": [
            "/bin/bash: line 1: nvidia-smi: command not found\n"
          ]
        }
      ],
      "source": [
        "!nvidia-smi"
      ]
    },
    {
      "cell_type": "code",
      "execution_count": 5,
      "metadata": {
        "colab": {
          "base_uri": "https://localhost:8080/"
        },
        "id": "rfwqjYe7O-HN",
        "outputId": "bf76367f-d103-44e3-94bb-49dfd30f1f96"
      },
      "outputs": [
        {
          "name": "stdout",
          "output_type": "stream",
          "text": [
            "Cloning into 'CV-Parsing-using-Spacy-3'...\n",
            "remote: Enumerating objects: 82, done.\u001b[K\n",
            "remote: Counting objects: 100% (76/76), done.\u001b[K\n",
            "remote: Compressing objects: 100% (58/58), done.\u001b[K\n",
            "remote: Total 82 (delta 14), reused 74 (delta 14), pack-reused 6\u001b[K\n",
            "Receiving objects: 100% (82/82), 5.62 MiB | 12.34 MiB/s, done.\n",
            "Resolving deltas: 100% (14/14), done.\n"
          ]
        }
      ],
      "source": [
        "! git clone https://github.com/laxmimerit/CV-Parsing-using-Spacy-3.git"
      ]
    },
    {
      "cell_type": "code",
      "execution_count": 6,
      "metadata": {
        "colab": {
          "base_uri": "https://localhost:8080/"
        },
        "id": "3C81VpjTQAse",
        "outputId": "24a0ff3d-2cda-4b07-a984-11d6e6655b6a"
      },
      "outputs": [
        {
          "data": {
            "text/plain": [
              "200"
            ]
          },
          "execution_count": 6,
          "metadata": {},
          "output_type": "execute_result"
        }
      ],
      "source": [
        "cv_data = json.load(open('/content/CV-Parsing-using-Spacy-3/data/training/train_data.json'))\n",
        "len(cv_data)"
      ]
    },
    {
      "cell_type": "code",
      "execution_count": 7,
      "metadata": {
        "colab": {
          "base_uri": "https://localhost:8080/"
        },
        "id": "8Yx9qdgvQe_o",
        "outputId": "dba4eee4-873f-4fc5-a593-29faedac050a"
      },
      "outputs": [
        {
          "name": "stdout",
          "output_type": "stream",
          "text": [
            "2023-12-04 09:09:28.361287: E tensorflow/compiler/xla/stream_executor/cuda/cuda_dnn.cc:9342] Unable to register cuDNN factory: Attempting to register factory for plugin cuDNN when one has already been registered\n",
            "2023-12-04 09:09:28.361358: E tensorflow/compiler/xla/stream_executor/cuda/cuda_fft.cc:609] Unable to register cuFFT factory: Attempting to register factory for plugin cuFFT when one has already been registered\n",
            "2023-12-04 09:09:28.361402: E tensorflow/compiler/xla/stream_executor/cuda/cuda_blas.cc:1518] Unable to register cuBLAS factory: Attempting to register factory for plugin cuBLAS when one has already been registered\n",
            "2023-12-04 09:09:31.302872: W tensorflow/compiler/tf2tensorrt/utils/py_utils.cc:38] TF-TRT Warning: Could not find TensorRT\n",
            "\u001b[38;5;2m✔ Auto-filled config with all values\u001b[0m\n",
            "\u001b[38;5;2m✔ Saved config\u001b[0m\n",
            "/content/CV-Parsing-using-Spacy-3/data/training/config.cfg\n",
            "You can now add your data and train your pipeline:\n",
            "python -m spacy train config.cfg --paths.train ./train.spacy --paths.dev ./dev.spacy\n"
          ]
        }
      ],
      "source": [
        "!python -m spacy init fill-config /content/CV-Parsing-using-Spacy-3/data/training/base_config.cfg /content/CV-Parsing-using-Spacy-3/data/training/config.cfg"
      ]
    },
    {
      "cell_type": "code",
      "execution_count": 13,
      "metadata": {
        "colab": {
          "base_uri": "https://localhost:8080/"
        },
        "id": "zeG0Pm3wWlVM",
        "outputId": "7bcdf345-32fa-477e-d019-9eb8f057dc93"
      },
      "outputs": [
        {
          "data": {
            "text/plain": [
              "[\"Kartik Sharma Systems Engineer - Infosys Ltd  Delhi, Delhi - Email me on Indeed: indeed.com/r/Kartik-Sharma/cc7951fd7809f35e  ● Qualified B.Tech in Information Technology with 2.5 years overall and 2 years' experience in SAP Security, Project Management and Software Support. ● Currently spearheading as Senior Systems Engineer with Infosys Ltd Pune, well versed in Analysis, Test and Support activities. ● Proficient in handling various projects and managing project risks. Possess up to date knowledge of latest technological advancements, regulations and statutory compliances in the industry. ● Instrumental in building relations with upper level decision makers, seizing control of critical problem areas and delivering on client commitments.  PROJECT ANNEXURE:  Project Name: RB (Reckitt Benckiser) Duration: Since April '16 Role: SAP Security Consultant Responsibilities: ● Technical analyst for sap security in production and non-production environments. ● Worked with Security related tables such as AGR*, USR* etc. ● Performed User comparison using PFCG. ● Analysing user access issues using SU53 and system trace (ST01) ● Role changes done using PFCG as per the change request received. ● Mass user changes using SHDB, LSMW, SU10. ● Control Firefighter access in GRC10.1. ● Handling/Creating Solman CR as per Business requirement. ● Working on tool Service-Now for User/Business/Technical support.  PROJECT KEY RESULT AREAS:  ● Extensive working knowledge in SAP ECC 6.0, SAP R/3 Enterprise GRC 10.1. ● Expertise in Role Administration, PFCG, User reports, Authorization objects. ● Expertise in Risk Analysis, Mitigation and Remediation. ● Utilize SU24 to enable/disable security checks ● Granting privileged and compensatory controls, providing access in controlled environment using Fire-fighter id. ● Troubleshoot security/authorization using SU53, ST01 and SUIM. ● Restrict table access through authorization groups. ● Ticket handling-related to various issues ranging from user expiration to missing authorizations. ● Addition, Removal of transaction codes, authorizations, authorization objects by modifying existing roles based upon change request. ● Supporting Site Go-Lives.  Willing to relocate to: Delhi - Noida, Uttar Pradesh - Gurgaon, Haryana  https://www.indeed.com/r/Kartik-Sharma/cc7951fd7809f35e?isid=rex-download&ikw=download-top&co=IN   WORK EXPERIENCE  Systems Engineer  Infosys Ltd -  Delhi, Delhi -  March 2016 to Present  as a management trainee. • Worked with 'AVS InfoTech' as a part-time employee. • Guided students in Science, Math and C++ for 4 years.  TECHNICAL SKILL SET  SAP Systems: SAP ECC 6.0. Product Tools: GRC 10.1 Database: Oracle, SQL, RDBMS.  Senior Systems engineer  Infosys Limited -  September 2015 to Present  Working as SAP SECURITY consultant in a client project with Infosys  EDUCATION  B.Tech in Engineering  Northern India engineering college, IP UNIVERSITY DELHI  2015  CBSE  Lovely Public Sr. Sec. School  2011  CBSE  Lovely Public Sr. Sec. School  2009  University / Board  SKILLS  SAP Security    ADDITIONAL INFORMATION  Operating systems: Windows […] 8, 10. Languages: C, C++, C#  PROFESSIONAL SKILL SET:  • Good Communication Skills in English and Hindi. • Ability to work under pressure.\",\n",
              " {'entities': [[3086, 3255, 'Skills'],\n",
              "   [3046, 3058, 'Skills'],\n",
              "   [2981, 3010, 'College Name'],\n",
              "   [2975, 2979, 'Degree'],\n",
              "   [2969, 2973, 'Graduation Year'],\n",
              "   [2938, 2967, 'College Name'],\n",
              "   [2932, 2936, 'Degree'],\n",
              "   [2926, 2930, 'Graduation Year'],\n",
              "   [2869, 2924, 'College Name'],\n",
              "   [2846, 2867, 'Degree'],\n",
              "   [2749, 2753, 'Graduation Year'],\n",
              "   [2614, 2693, 'Skills'],\n",
              "   [2425, 2430, 'Location'],\n",
              "   [2418, 2423, 'Location'],\n",
              "   [2385, 2401, 'Designation'],\n",
              "   [2220, 2225, 'Location'],\n",
              "   [837, 849, 'Skills'],\n",
              "   [333, 344, 'Companies worked at'],\n",
              "   [311, 327, 'Designation'],\n",
              "   [221, 233, 'Skills'],\n",
              "   [138, 170, 'Degree'],\n",
              "   [81, 124, 'Email Address'],\n",
              "   [53, 58, 'Location'],\n",
              "   [46, 51, 'Location'],\n",
              "   [33, 44, 'Companies worked at'],\n",
              "   [14, 30, 'Designation'],\n",
              "   [0, 13, 'Name']]}]"
            ]
          },
          "execution_count": 13,
          "metadata": {},
          "output_type": "execute_result"
        }
      ],
      "source": [
        "cv_data[10]"
      ]
    },
    {
      "cell_type": "code",
      "execution_count": 9,
      "metadata": {
        "id": "vmSwKiOgQfB6"
      },
      "outputs": [],
      "source": [
        "def get_spacy_doc(file, data):\n",
        "    nlp = spacy.blank('en')\n",
        "    docbin = DocBin()\n",
        "\n",
        "    for text, annot in tqdm(data):\n",
        "        doc = nlp(text)\n",
        "        annot = annot['entities']\n",
        "\n",
        "        ents = []\n",
        "        entity_indices = set()\n",
        "\n",
        "        for start, end, label in annot:\n",
        "            if start >= end:\n",
        "                # Skip invalid annotation with start >= end\n",
        "                continue\n",
        "\n",
        "            overlapping_indices = set(range(start, end)) & entity_indices\n",
        "\n",
        "            if overlapping_indices:\n",
        "                # Skip only the overlapping indices in this annotation\n",
        "                entity_indices -= overlapping_indices\n",
        "            else:\n",
        "                # Process non-overlapping indices\n",
        "                entity_indices.update(range(start, end))\n",
        "\n",
        "                try:\n",
        "                    span = doc.char_span(start, end, label=label, alignment_mode='strict')\n",
        "                except Exception as e:\n",
        "                    file.write(f\"{[start, end]}    {text}\\n\")\n",
        "                    print(f\"Error processing span: {[start, end]}, {e}\")\n",
        "                    continue\n",
        "\n",
        "                if span is not None:\n",
        "                    ents.append(span)\n",
        "\n",
        "        try:\n",
        "            doc.ents = ents\n",
        "            docbin.add(doc)\n",
        "        except Exception as e:\n",
        "            print(f\"Error adding Doc to DocBin: {e}\")\n",
        "            pass\n",
        "\n",
        "    return docbin"
      ]
    },
    {
      "cell_type": "code",
      "execution_count": 10,
      "metadata": {
        "id": "TZOy9LPkeg7e"
      },
      "outputs": [],
      "source": [
        "from sklearn.model_selection import train_test_split\n",
        "train, test = train_test_split(cv_data, test_size= 0.3)"
      ]
    },
    {
      "cell_type": "code",
      "execution_count": 11,
      "metadata": {
        "colab": {
          "base_uri": "https://localhost:8080/"
        },
        "id": "JqvRtbx3QfET",
        "outputId": "ddbcc174-1c32-417a-fb94-eeb4464b2224"
      },
      "outputs": [
        {
          "data": {
            "text/plain": [
              "(140, 60)"
            ]
          },
          "execution_count": 11,
          "metadata": {},
          "output_type": "execute_result"
        }
      ],
      "source": [
        "len(train), len(test)"
      ]
    },
    {
      "cell_type": "code",
      "execution_count": 12,
      "metadata": {
        "colab": {
          "base_uri": "https://localhost:8080/"
        },
        "id": "UPeeweXcQfGr",
        "outputId": "33ad9048-c309-4788-8225-88b34601bea4"
      },
      "outputs": [
        {
          "name": "stderr",
          "output_type": "stream",
          "text": [
            "100%|██████████| 140/140 [00:01<00:00, 86.48it/s] \n",
            "100%|██████████| 60/60 [00:01<00:00, 41.86it/s]\n"
          ]
        }
      ],
      "source": [
        "with open('error.txt', 'w') as file:\n",
        "    train_docbin = get_spacy_doc(file, train)\n",
        "    train_docbin.to_disk('train_data.spacy')\n",
        "\n",
        "    test_docbin = get_spacy_doc(file, test)\n",
        "    test_docbin.to_disk('test_data.spacy')"
      ]
    },
    {
      "cell_type": "code",
      "execution_count": 14,
      "metadata": {
        "id": "8ZF2q2hLQfJK"
      },
      "outputs": [],
      "source": [
        "\n",
        "import pandas as pd\n",
        "\n",
        "df = pd.read_json('/content/CV-Parsing-using-Spacy-3/data/training/train_data.json')\n"
      ]
    },
    {
      "cell_type": "code",
      "execution_count": 15,
      "metadata": {
        "colab": {
          "base_uri": "https://localhost:8080/",
          "height": 206
        },
        "id": "kP3eZy_2QfLi",
        "outputId": "a0c011ef-6ae9-4b08-84b5-6fd2b51f4671"
      },
      "outputs": [
        {
          "data": {
            "text/html": [
              "\n",
              "  <div id=\"df-29d454dd-cfb0-4841-bbc2-b19c040978fa\" class=\"colab-df-container\">\n",
              "    <div>\n",
              "<style scoped>\n",
              "    .dataframe tbody tr th:only-of-type {\n",
              "        vertical-align: middle;\n",
              "    }\n",
              "\n",
              "    .dataframe tbody tr th {\n",
              "        vertical-align: top;\n",
              "    }\n",
              "\n",
              "    .dataframe thead th {\n",
              "        text-align: right;\n",
              "    }\n",
              "</style>\n",
              "<table border=\"1\" class=\"dataframe\">\n",
              "  <thead>\n",
              "    <tr style=\"text-align: right;\">\n",
              "      <th></th>\n",
              "      <th>0</th>\n",
              "      <th>1</th>\n",
              "    </tr>\n",
              "  </thead>\n",
              "  <tbody>\n",
              "    <tr>\n",
              "      <th>0</th>\n",
              "      <td>Govardhana K Senior Software Engineer  Bengalu...</td>\n",
              "      <td>{'entities': [[1749, 1755, 'Companies worked a...</td>\n",
              "    </tr>\n",
              "    <tr>\n",
              "      <th>1</th>\n",
              "      <td>Harini Komaravelli Test Analyst at Oracle, Hyd...</td>\n",
              "      <td>{'entities': [[2275, 2281, 'Companies worked a...</td>\n",
              "    </tr>\n",
              "    <tr>\n",
              "      <th>2</th>\n",
              "      <td>Hartej Kathuria Data Analyst Intern - Oracle R...</td>\n",
              "      <td>{'entities': [[2247, 2573, 'Skills'], [1435, 1...</td>\n",
              "    </tr>\n",
              "    <tr>\n",
              "      <th>3</th>\n",
              "      <td>Ijas Nizamuddin Associate Consultant - State S...</td>\n",
              "      <td>{'entities': [[4652, 4850, 'Skills'], [4608, 4...</td>\n",
              "    </tr>\n",
              "    <tr>\n",
              "      <th>4</th>\n",
              "      <td>Imgeeyaul Ansari java developer  Pune, Maharas...</td>\n",
              "      <td>{'entities': [[1894, 2173, 'Skills'], [1726, 1...</td>\n",
              "    </tr>\n",
              "  </tbody>\n",
              "</table>\n",
              "</div>\n",
              "    <div class=\"colab-df-buttons\">\n",
              "\n",
              "  <div class=\"colab-df-container\">\n",
              "    <button class=\"colab-df-convert\" onclick=\"convertToInteractive('df-29d454dd-cfb0-4841-bbc2-b19c040978fa')\"\n",
              "            title=\"Convert this dataframe to an interactive table.\"\n",
              "            style=\"display:none;\">\n",
              "\n",
              "  <svg xmlns=\"http://www.w3.org/2000/svg\" height=\"24px\" viewBox=\"0 -960 960 960\">\n",
              "    <path d=\"M120-120v-720h720v720H120Zm60-500h600v-160H180v160Zm220 220h160v-160H400v160Zm0 220h160v-160H400v160ZM180-400h160v-160H180v160Zm440 0h160v-160H620v160ZM180-180h160v-160H180v160Zm440 0h160v-160H620v160Z\"/>\n",
              "  </svg>\n",
              "    </button>\n",
              "\n",
              "  <style>\n",
              "    .colab-df-container {\n",
              "      display:flex;\n",
              "      gap: 12px;\n",
              "    }\n",
              "\n",
              "    .colab-df-convert {\n",
              "      background-color: #E8F0FE;\n",
              "      border: none;\n",
              "      border-radius: 50%;\n",
              "      cursor: pointer;\n",
              "      display: none;\n",
              "      fill: #1967D2;\n",
              "      height: 32px;\n",
              "      padding: 0 0 0 0;\n",
              "      width: 32px;\n",
              "    }\n",
              "\n",
              "    .colab-df-convert:hover {\n",
              "      background-color: #E2EBFA;\n",
              "      box-shadow: 0px 1px 2px rgba(60, 64, 67, 0.3), 0px 1px 3px 1px rgba(60, 64, 67, 0.15);\n",
              "      fill: #174EA6;\n",
              "    }\n",
              "\n",
              "    .colab-df-buttons div {\n",
              "      margin-bottom: 4px;\n",
              "    }\n",
              "\n",
              "    [theme=dark] .colab-df-convert {\n",
              "      background-color: #3B4455;\n",
              "      fill: #D2E3FC;\n",
              "    }\n",
              "\n",
              "    [theme=dark] .colab-df-convert:hover {\n",
              "      background-color: #434B5C;\n",
              "      box-shadow: 0px 1px 3px 1px rgba(0, 0, 0, 0.15);\n",
              "      filter: drop-shadow(0px 1px 2px rgba(0, 0, 0, 0.3));\n",
              "      fill: #FFFFFF;\n",
              "    }\n",
              "  </style>\n",
              "\n",
              "    <script>\n",
              "      const buttonEl =\n",
              "        document.querySelector('#df-29d454dd-cfb0-4841-bbc2-b19c040978fa button.colab-df-convert');\n",
              "      buttonEl.style.display =\n",
              "        google.colab.kernel.accessAllowed ? 'block' : 'none';\n",
              "\n",
              "      async function convertToInteractive(key) {\n",
              "        const element = document.querySelector('#df-29d454dd-cfb0-4841-bbc2-b19c040978fa');\n",
              "        const dataTable =\n",
              "          await google.colab.kernel.invokeFunction('convertToInteractive',\n",
              "                                                    [key], {});\n",
              "        if (!dataTable) return;\n",
              "\n",
              "        const docLinkHtml = 'Like what you see? Visit the ' +\n",
              "          '<a target=\"_blank\" href=https://colab.research.google.com/notebooks/data_table.ipynb>data table notebook</a>'\n",
              "          + ' to learn more about interactive tables.';\n",
              "        element.innerHTML = '';\n",
              "        dataTable['output_type'] = 'display_data';\n",
              "        await google.colab.output.renderOutput(dataTable, element);\n",
              "        const docLink = document.createElement('div');\n",
              "        docLink.innerHTML = docLinkHtml;\n",
              "        element.appendChild(docLink);\n",
              "      }\n",
              "    </script>\n",
              "  </div>\n",
              "\n",
              "\n",
              "<div id=\"df-d2e0116e-27c7-4de1-af8a-64d030154d28\">\n",
              "  <button class=\"colab-df-quickchart\" onclick=\"quickchart('df-d2e0116e-27c7-4de1-af8a-64d030154d28')\"\n",
              "            title=\"Suggest charts\"\n",
              "            style=\"display:none;\">\n",
              "\n",
              "<svg xmlns=\"http://www.w3.org/2000/svg\" height=\"24px\"viewBox=\"0 0 24 24\"\n",
              "     width=\"24px\">\n",
              "    <g>\n",
              "        <path d=\"M19 3H5c-1.1 0-2 .9-2 2v14c0 1.1.9 2 2 2h14c1.1 0 2-.9 2-2V5c0-1.1-.9-2-2-2zM9 17H7v-7h2v7zm4 0h-2V7h2v10zm4 0h-2v-4h2v4z\"/>\n",
              "    </g>\n",
              "</svg>\n",
              "  </button>\n",
              "\n",
              "<style>\n",
              "  .colab-df-quickchart {\n",
              "      --bg-color: #E8F0FE;\n",
              "      --fill-color: #1967D2;\n",
              "      --hover-bg-color: #E2EBFA;\n",
              "      --hover-fill-color: #174EA6;\n",
              "      --disabled-fill-color: #AAA;\n",
              "      --disabled-bg-color: #DDD;\n",
              "  }\n",
              "\n",
              "  [theme=dark] .colab-df-quickchart {\n",
              "      --bg-color: #3B4455;\n",
              "      --fill-color: #D2E3FC;\n",
              "      --hover-bg-color: #434B5C;\n",
              "      --hover-fill-color: #FFFFFF;\n",
              "      --disabled-bg-color: #3B4455;\n",
              "      --disabled-fill-color: #666;\n",
              "  }\n",
              "\n",
              "  .colab-df-quickchart {\n",
              "    background-color: var(--bg-color);\n",
              "    border: none;\n",
              "    border-radius: 50%;\n",
              "    cursor: pointer;\n",
              "    display: none;\n",
              "    fill: var(--fill-color);\n",
              "    height: 32px;\n",
              "    padding: 0;\n",
              "    width: 32px;\n",
              "  }\n",
              "\n",
              "  .colab-df-quickchart:hover {\n",
              "    background-color: var(--hover-bg-color);\n",
              "    box-shadow: 0 1px 2px rgba(60, 64, 67, 0.3), 0 1px 3px 1px rgba(60, 64, 67, 0.15);\n",
              "    fill: var(--button-hover-fill-color);\n",
              "  }\n",
              "\n",
              "  .colab-df-quickchart-complete:disabled,\n",
              "  .colab-df-quickchart-complete:disabled:hover {\n",
              "    background-color: var(--disabled-bg-color);\n",
              "    fill: var(--disabled-fill-color);\n",
              "    box-shadow: none;\n",
              "  }\n",
              "\n",
              "  .colab-df-spinner {\n",
              "    border: 2px solid var(--fill-color);\n",
              "    border-color: transparent;\n",
              "    border-bottom-color: var(--fill-color);\n",
              "    animation:\n",
              "      spin 1s steps(1) infinite;\n",
              "  }\n",
              "\n",
              "  @keyframes spin {\n",
              "    0% {\n",
              "      border-color: transparent;\n",
              "      border-bottom-color: var(--fill-color);\n",
              "      border-left-color: var(--fill-color);\n",
              "    }\n",
              "    20% {\n",
              "      border-color: transparent;\n",
              "      border-left-color: var(--fill-color);\n",
              "      border-top-color: var(--fill-color);\n",
              "    }\n",
              "    30% {\n",
              "      border-color: transparent;\n",
              "      border-left-color: var(--fill-color);\n",
              "      border-top-color: var(--fill-color);\n",
              "      border-right-color: var(--fill-color);\n",
              "    }\n",
              "    40% {\n",
              "      border-color: transparent;\n",
              "      border-right-color: var(--fill-color);\n",
              "      border-top-color: var(--fill-color);\n",
              "    }\n",
              "    60% {\n",
              "      border-color: transparent;\n",
              "      border-right-color: var(--fill-color);\n",
              "    }\n",
              "    80% {\n",
              "      border-color: transparent;\n",
              "      border-right-color: var(--fill-color);\n",
              "      border-bottom-color: var(--fill-color);\n",
              "    }\n",
              "    90% {\n",
              "      border-color: transparent;\n",
              "      border-bottom-color: var(--fill-color);\n",
              "    }\n",
              "  }\n",
              "</style>\n",
              "\n",
              "  <script>\n",
              "    async function quickchart(key) {\n",
              "      const quickchartButtonEl =\n",
              "        document.querySelector('#' + key + ' button');\n",
              "      quickchartButtonEl.disabled = true;  // To prevent multiple clicks.\n",
              "      quickchartButtonEl.classList.add('colab-df-spinner');\n",
              "      try {\n",
              "        const charts = await google.colab.kernel.invokeFunction(\n",
              "            'suggestCharts', [key], {});\n",
              "      } catch (error) {\n",
              "        console.error('Error during call to suggestCharts:', error);\n",
              "      }\n",
              "      quickchartButtonEl.classList.remove('colab-df-spinner');\n",
              "      quickchartButtonEl.classList.add('colab-df-quickchart-complete');\n",
              "    }\n",
              "    (() => {\n",
              "      let quickchartButtonEl =\n",
              "        document.querySelector('#df-d2e0116e-27c7-4de1-af8a-64d030154d28 button');\n",
              "      quickchartButtonEl.style.display =\n",
              "        google.colab.kernel.accessAllowed ? 'block' : 'none';\n",
              "    })();\n",
              "  </script>\n",
              "</div>\n",
              "    </div>\n",
              "  </div>\n"
            ],
            "text/plain": [
              "                                                   0  \\\n",
              "0  Govardhana K Senior Software Engineer  Bengalu...   \n",
              "1  Harini Komaravelli Test Analyst at Oracle, Hyd...   \n",
              "2  Hartej Kathuria Data Analyst Intern - Oracle R...   \n",
              "3  Ijas Nizamuddin Associate Consultant - State S...   \n",
              "4  Imgeeyaul Ansari java developer  Pune, Maharas...   \n",
              "\n",
              "                                                   1  \n",
              "0  {'entities': [[1749, 1755, 'Companies worked a...  \n",
              "1  {'entities': [[2275, 2281, 'Companies worked a...  \n",
              "2  {'entities': [[2247, 2573, 'Skills'], [1435, 1...  \n",
              "3  {'entities': [[4652, 4850, 'Skills'], [4608, 4...  \n",
              "4  {'entities': [[1894, 2173, 'Skills'], [1726, 1...  "
            ]
          },
          "execution_count": 15,
          "metadata": {},
          "output_type": "execute_result"
        }
      ],
      "source": [
        "df.head()"
      ]
    }
  ],
  "metadata": {
    "colab": {
      "provenance": []
    },
    "kernelspec": {
      "display_name": "Python 3",
      "name": "python3"
    },
    "language_info": {
      "name": "python"
    }
  },
  "nbformat": 4,
  "nbformat_minor": 0
}
