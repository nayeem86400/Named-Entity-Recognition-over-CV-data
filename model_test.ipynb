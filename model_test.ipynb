{
 "cells": [
  {
   "cell_type": "code",
   "execution_count": 1,
   "metadata": {},
   "outputs": [],
   "source": [
    "import spacy\n",
    "from spacy import displacy"
   ]
  },
  {
   "cell_type": "code",
   "execution_count": 17,
   "metadata": {},
   "outputs": [],
   "source": [
    "path = '../model-best'\n",
    "ner = spacy.load(path)"
   ]
  },
  {
   "cell_type": "code",
   "execution_count": 54,
   "metadata": {},
   "outputs": [
    {
     "data": {
      "text/html": [
       "<span class=\"tex2jax_ignore\"><div class=\"entities\" style=\"line-height: 2.5; direction: ltr\"><br>\n",
       "<mark class=\"entity\" style=\"background: #ddd; padding: 0.45em 0.6em; margin: 0 0.25em; line-height: 1; border-radius: 0.35em;\">\n",
       "    SAMANTHA CARTER\n",
       "    <span style=\"font-size: 0.8em; font-weight: bold; line-height: 1; border-radius: 0.35em; vertical-align: middle; margin-left: 0.5rem\">name</span>\n",
       "</mark>\n",
       "<br>Java Developer<br>\n",
       "<mark class=\"entity\" style=\"background: #ddd; padding: 0.45em 0.6em; margin: 0 0.25em; line-height: 1; border-radius: 0.35em;\">\n",
       "    CONTACT\n",
       "(123) 456-7890\n",
       "    <span style=\"font-size: 0.8em; font-weight: bold; line-height: 1; border-radius: 0.35em; vertical-align: middle; margin-left: 0.5rem\">contact</span>\n",
       "</mark>\n",
       "<br>Bellevue, WA<br>carter-codes.com<br>linkedin.com/in/sam-carter<br>github.com/carter-codes<br><br>EDUCATION<br>A.S.<br>Computer Science<br>Bellevue College<br>September 2019 - June 2021<br>Bellevue, WA<br><br>SKILLS<br>\n",
       "<mark class=\"entity\" style=\"background: #ddd; padding: 0.45em 0.6em; margin: 0 0.25em; line-height: 1; border-radius: 0.35em;\">\n",
       "    Java\n",
       "    <span style=\"font-size: 0.8em; font-weight: bold; line-height: 1; border-radius: 0.35em; vertical-align: middle; margin-left: 0.5rem\">Technology</span>\n",
       "</mark>\n",
       "<br>\n",
       "<mark class=\"entity\" style=\"background: #ddd; padding: 0.45em 0.6em; margin: 0 0.25em; line-height: 1; border-radius: 0.35em;\">\n",
       "    HTML\n",
       "    <span style=\"font-size: 0.8em; font-weight: bold; line-height: 1; border-radius: 0.35em; vertical-align: middle; margin-left: 0.5rem\">Technology</span>\n",
       "</mark>\n",
       "<br>\n",
       "<mark class=\"entity\" style=\"background: #ddd; padding: 0.45em 0.6em; margin: 0 0.25em; line-height: 1; border-radius: 0.35em;\">\n",
       "    CSS\n",
       "    <span style=\"font-size: 0.8em; font-weight: bold; line-height: 1; border-radius: 0.35em; vertical-align: middle; margin-left: 0.5rem\">Technology</span>\n",
       "</mark>\n",
       "<br>\n",
       "<mark class=\"entity\" style=\"background: #ddd; padding: 0.45em 0.6em; margin: 0 0.25em; line-height: 1; border-radius: 0.35em;\">\n",
       "    JavaScript\n",
       "    <span style=\"font-size: 0.8em; font-weight: bold; line-height: 1; border-radius: 0.35em; vertical-align: middle; margin-left: 0.5rem\">Technology</span>\n",
       "</mark>\n",
       "<br>\n",
       "<mark class=\"entity\" style=\"background: #ddd; padding: 0.45em 0.6em; margin: 0 0.25em; line-height: 1; border-radius: 0.35em;\">\n",
       "    C/C++\n",
       "    <span style=\"font-size: 0.8em; font-weight: bold; line-height: 1; border-radius: 0.35em; vertical-align: middle; margin-left: 0.5rem\">Technology</span>\n",
       "</mark>\n",
       "<br>\n",
       "<mark class=\"entity\" style=\"background: #ddd; padding: 0.45em 0.6em; margin: 0 0.25em; line-height: 1; border-radius: 0.35em;\">\n",
       "    Node.js\n",
       "    <span style=\"font-size: 0.8em; font-weight: bold; line-height: 1; border-radius: 0.35em; vertical-align: middle; margin-left: 0.5rem\">Technology</span>\n",
       "</mark>\n",
       "<br>\n",
       "<mark class=\"entity\" style=\"background: #ddd; padding: 0.45em 0.6em; margin: 0 0.25em; line-height: 1; border-radius: 0.35em;\">\n",
       "    GIT\n",
       "    <span style=\"font-size: 0.8em; font-weight: bold; line-height: 1; border-radius: 0.35em; vertical-align: middle; margin-left: 0.5rem\">experience</span>\n",
       "</mark>\n",
       "<br><br>CAREER OBJECTIVE<br>Software engineer with a proven ability to efficiently solve<br>problems and collaborate with teams to deliver high-quality<br>creative solutions in a timely manner. As a dedicated lifelong<br>learner, I worked through 1,000+ hours of an associate’s in<br>computer science degree wherein I learned \n",
       "<mark class=\"entity\" style=\"background: #ddd; padding: 0.45em 0.6em; margin: 0 0.25em; line-height: 1; border-radius: 0.35em;\">\n",
       "    JavaScript\n",
       "    <span style=\"font-size: 0.8em; font-weight: bold; line-height: 1; border-radius: 0.35em; vertical-align: middle; margin-left: 0.5rem\">Technology</span>\n",
       "</mark>\n",
       ", Node.js,<br>\n",
       "<mark class=\"entity\" style=\"background: #ddd; padding: 0.45em 0.6em; margin: 0 0.25em; line-height: 1; border-radius: 0.35em;\">\n",
       "    Java\n",
       "    <span style=\"font-size: 0.8em; font-weight: bold; line-height: 1; border-radius: 0.35em; vertical-align: middle; margin-left: 0.5rem\">Technology</span>\n",
       "</mark>\n",
       ", and C/C++. Seeking to add value, grow my skillset, and<br>participate in meaningful work with Cognizant.<br><br>WORK EXPERIENCE<br>\n",
       "<mark class=\"entity\" style=\"background: #ddd; padding: 0.45em 0.6em; margin: 0 0.25em; line-height: 1; border-radius: 0.35em;\">\n",
       "    Software Engineer Intern\n",
       "UiPath\n",
       "June 2021 - current / Bellevue, WA\n",
       "    <span style=\"font-size: 0.8em; font-weight: bold; line-height: 1; border-radius: 0.35em; vertical-align: middle; margin-left: 0.5rem\">experience</span>\n",
       "</mark>\n",
       "<br><br>· Developed and pushed production-ready code by ramping<br>on the assigned codebase, product area, and/or system.<br>· Completed tasks efficiently with less than 5 iterations.<br>· Identified problem statements, outlined optimal solutions,<br>and accounted for tradeoffs and edge cases.<br>· Communicated effectively across multiple stakeholders.<br>· Performed hardware/software troubleshooting and testing.<br>· Gained exposure on collaborating with a team of 8<br>engineers, from sprint planning to shipping code.<br>· Received daily mentoring from 2 senior developers, and<br>participated in weekly stand-up.<br><br>Server, Hostess, Front of House<br>Red Robin<br>January 2018 - June 2021 / Bellevue, WA<br><br>· Maintained a positive attitude and calm demeanor<br>regardless of task or environment.<br>· Answered questions about 60+ menu items, including<br>recommendations and beer pairings.<br>· Handled 97% of transactions, tip-outs, and refund disputes<br>without involving management.<br>· Kept all service areas uncluttered and sanitized, helping<br>staff lock doors 10 minutes, on average, prior to goal.<br><br>\f<br></div></span>"
      ],
      "text/plain": [
       "<IPython.core.display.HTML object>"
      ]
     },
     "metadata": {},
     "output_type": "display_data"
    }
   ],
   "source": [
    "doc = ner('''\n",
    "SAMANTHA CARTER\n",
    "Java Developer\n",
    "CONTACT\n",
    "(123) 456-7890\n",
    "Bellevue, WA\n",
    "carter-codes.com\n",
    "linkedin.com/in/sam-carter\n",
    "github.com/carter-codes\n",
    "\n",
    "EDUCATION\n",
    "A.S.\n",
    "Computer Science\n",
    "Bellevue College\n",
    "September 2019 - June 2021\n",
    "Bellevue, WA\n",
    "\n",
    "SKILLS\n",
    "Java\n",
    "HTML\n",
    "CSS\n",
    "JavaScript\n",
    "C/C++\n",
    "Node.js\n",
    "GIT\n",
    "\n",
    "CAREER OBJECTIVE\n",
    "Software engineer with a proven ability to efficiently solve\n",
    "problems and collaborate with teams to deliver high-quality\n",
    "creative solutions in a timely manner. As a dedicated lifelong\n",
    "learner, I worked through 1,000+ hours of an associate’s in\n",
    "computer science degree wherein I learned JavaScript, Node.js,\n",
    "Java, and C/C++. Seeking to add value, grow my skillset, and\n",
    "participate in meaningful work with Cognizant.\n",
    "\n",
    "WORK EXPERIENCE\n",
    "Software Engineer Intern\n",
    "UiPath\n",
    "June 2021 - current / Bellevue, WA\n",
    "\n",
    "· Developed and pushed production-ready code by ramping\n",
    "on the assigned codebase, product area, and/or system.\n",
    "· Completed tasks efficiently with less than 5 iterations.\n",
    "· Identified problem statements, outlined optimal solutions,\n",
    "and accounted for tradeoffs and edge cases.\n",
    "· Communicated effectively across multiple stakeholders.\n",
    "· Performed hardware/software troubleshooting and testing.\n",
    "· Gained exposure on collaborating with a team of 8\n",
    "engineers, from sprint planning to shipping code.\n",
    "· Received daily mentoring from 2 senior developers, and\n",
    "participated in weekly stand-up.\n",
    "\n",
    "Server, Hostess, Front of House\n",
    "Red Robin\n",
    "January 2018 - June 2021 / Bellevue, WA\n",
    "\n",
    "· Maintained a positive attitude and calm demeanor\n",
    "regardless of task or environment.\n",
    "· Answered questions about 60+ menu items, including\n",
    "recommendations and beer pairings.\n",
    "· Handled 97% of transactions, tip-outs, and refund disputes\n",
    "without involving management.\n",
    "· Kept all service areas uncluttered and sanitized, helping\n",
    "staff lock doors 10 minutes, on average, prior to goal.\n",
    "\n",
    "\f\n",
    "''')\n",
    "spacy.displacy.render(doc, style='ent', jupyter=True)"
   ]
  },
  {
   "cell_type": "code",
   "execution_count": 44,
   "metadata": {},
   "outputs": [
    {
     "data": {
      "text/html": [
       "<span class=\"tex2jax_ignore\"><div class=\"entities\" style=\"line-height: 2.5; direction: ltr\">\n",
       "<mark class=\"entity\" style=\"background: #ddd; padding: 0.45em 0.6em; margin: 0 0.25em; line-height: 1; border-radius: 0.35em;\">\n",
       "    Software Engineer Microsoft – Bangalore, Karnataka May 2000\n",
       "    <span style=\"font-size: 0.8em; font-weight: bold; line-height: 1; border-radius: 0.35em; vertical-align: middle; margin-left: 0.5rem\">experience</span>\n",
       "</mark>\n",
       "</div></span>"
      ],
      "text/plain": [
       "<IPython.core.display.HTML object>"
      ]
     },
     "metadata": {},
     "output_type": "display_data"
    }
   ],
   "source": [
    "doc = ner('Software Engineer Microsoft – Bangalore, Karnataka May 2000')\n",
    "spacy.displacy.render(doc, style='ent', jupyter = True)"
   ]
  },
  {
   "cell_type": "code",
   "execution_count": null,
   "metadata": {},
   "outputs": [],
   "source": []
  }
 ],
 "metadata": {
  "kernelspec": {
   "display_name": "py_env",
   "language": "python",
   "name": "python3"
  },
  "language_info": {
   "codemirror_mode": {
    "name": "ipython",
    "version": 3
   },
   "file_extension": ".py",
   "mimetype": "text/x-python",
   "name": "python",
   "nbconvert_exporter": "python",
   "pygments_lexer": "ipython3",
   "version": "3.10.12"
  }
 },
 "nbformat": 4,
 "nbformat_minor": 2
}
